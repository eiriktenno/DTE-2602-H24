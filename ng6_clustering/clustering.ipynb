{
 "cells": [
  {
   "cell_type": "markdown",
   "metadata": {},
   "source": [
    "# Clustering\n",
    "Denne innleveringen omhandler \"clustering\" eller \"klynging\", som er en form for\n",
    "\"unsupervised learning\". Dette temaet er presentert i videoer relatert til denne\n",
    "modulen, og beskrives ikke i detalj her i selve oppgave-notebook'en. \n",
    "\n",
    "Oppgavene du skal løse fungerer som små byggeblokker eller steg på veien som til slutt\n",
    "kombineres til en fungerende clustering-algoritme (K-means). Vær litt obs på dette - du\n",
    "skal \"gjenbruke\" funksjonene fra de første oppgavene i de senere oppgavene.  \n",
    "\n",
    "Vi importerer først modulene vi trenger:"
   ]
  },
  {
   "cell_type": "code",
   "execution_count": 63,
   "metadata": {},
   "outputs": [],
   "source": [
    "# Imports\n",
    "import numpy as np  # For vectors and matrices\n",
    "import random\n",
    "from numpy.typing import NDArray\n",
    "import ipytest\n",
    "import csv\n",
    "import matplotlib.pyplot as plt\n",
    "import pytest\n",
    "import sklearn.datasets\n",
    "import sklearn.metrics"
   ]
  },
  {
   "cell_type": "code",
   "execution_count": 64,
   "metadata": {},
   "outputs": [],
   "source": [
    "# Set up pytest for Jupyter notebooks\n",
    "ipytest.autoconfig()"
   ]
  },
  {
   "cell_type": "markdown",
   "metadata": {},
   "source": [
    "## Oppgave 1: Distanse-funksjon\n",
    "Implementer en funksjon som beregner den Euklidske distansen mellom 2 vektorer.\n",
    "Vektorene kan et villkårlig antall elementer/\"dimensjoner\" (2,3, eller flere). "
   ]
  },
  {
   "cell_type": "code",
   "execution_count": 65,
   "metadata": {},
   "outputs": [],
   "source": [
    "def distance(a: NDArray, b: NDArray) -> float:\n",
    "    \"\"\"Calculate Euclidian distance between two vectors\n",
    "\n",
    "    Parameters\n",
    "    ----------\n",
    "    a: NDArray\n",
    "        First vector (NumPy array)\n",
    "    b: NDArray\n",
    "        Second vector (NumPy array), same length as a\n",
    "\n",
    "    Returns\n",
    "    -------\n",
    "    d : float\n",
    "        Euclidian distance between a and b\n",
    "\n",
    "    \"\"\"\n",
    "    if a.shape != b.shape:\n",
    "        return -1\n",
    "        \n",
    "    d = 0\n",
    "    for col in range(0, len(a)):\n",
    "        d += ((a[col]- b[col])**2)\n",
    "      \n",
    "    d = d**0.5\n",
    "    return d\n"
   ]
  },
  {
   "cell_type": "code",
   "execution_count": 66,
   "metadata": {},
   "outputs": [
    {
     "name": "stdout",
     "output_type": "stream",
     "text": [
      "\u001b[32m.\u001b[0m\u001b[32m                                                                                            [100%]\u001b[0m\n",
      "\u001b[32m\u001b[32m\u001b[1m1 passed\u001b[0m\u001b[32m in 0.01s\u001b[0m\u001b[0m\n"
     ]
    }
   ],
   "source": [
    "%%ipytest\n",
    "\n",
    "\n",
    "def test_distance():\n",
    "    \"\"\"Test calculation of distance for vectors of different lengths\"\"\"\n",
    "    assert distance(np.array([7]), np.array([4])) == 3.0  # 1D\n",
    "    assert distance(np.array([6, 4]), np.array([2, 1])) == 5.0  # 2D\n",
    "    assert distance(np.array([-4, 7, 5.5]), np.array([2, 3.14, 9])) == pytest.approx(\n",
    "        7.9466722\n",
    "    )  # 3D\n",
    "    assert distance(\n",
    "        np.array([99.7, -29, -77.3, 35]), np.array([50.1, 70.2, 75.9, -33.33])\n",
    "    ) == pytest.approx(201.097063)  # 4D\n"
   ]
  },
  {
   "cell_type": "markdown",
   "metadata": {},
   "source": [
    "## Oppgave 2: Finne nærmeste punkt\n",
    "Implementer en funksjon som finner tar utgangspunkt i et datapunkt $x$, sammenligner det\n",
    "med flere datapunkter samlet i ei matrise $C$, og som så returnerer indeks til punktet i $C$ som\n",
    "ligger nærmest $x$."
   ]
  },
  {
   "cell_type": "code",
   "execution_count": 67,
   "metadata": {},
   "outputs": [],
   "source": [
    "def closest_point_index(x: NDArray, C: NDArray) -> int:\n",
    "    \"\"\"Find index of closest point in vector space\n",
    "\n",
    "    Parameters\n",
    "    ----------\n",
    "    x: NDArray\n",
    "        NumPy vector, shape (N,)\n",
    "    C: NDArray\n",
    "        NumPy matrix, shape (k,N), corresponding to k row vectors\n",
    "        with the same length as x\n",
    "\n",
    "    Returns\n",
    "    -------\n",
    "    i: int\n",
    "        Index of row vector in C which is closest to x\n",
    "        Index is in range [0,1,...,k-1].\n",
    "    \"\"\"\n",
    "\n",
    "    import math\n",
    "    d = math.inf\n",
    "    i=0\n",
    "    for N in range(0, len(C)):\n",
    "        cur_d = 0\n",
    "        for k in range(0, len(x)):\n",
    "            cur_d += distance(x, C[N])\n",
    "        cur_d = cur_d**0.5\n",
    "\n",
    "        if d > cur_d:\n",
    "            d = cur_d\n",
    "            i = N\n",
    "\n",
    "    return i"
   ]
  },
  {
   "cell_type": "code",
   "execution_count": 68,
   "metadata": {},
   "outputs": [
    {
     "name": "stdout",
     "output_type": "stream",
     "text": [
      "\u001b[32m.\u001b[0m\u001b[32m                                                                                            [100%]\u001b[0m\n",
      "\u001b[32m\u001b[32m\u001b[1m1 passed\u001b[0m\u001b[32m in 0.01s\u001b[0m\u001b[0m\n"
     ]
    }
   ],
   "source": [
    "%%ipytest\n",
    "\n",
    "\n",
    "def test_closest_point_index():\n",
    "    \"\"\"Test calculation of which point in C is closest to point x\"\"\"\n",
    "    # k=2, N=2\n",
    "    x = np.array([2, 2])\n",
    "    C = np.array([[0, 0], [3, 3]])\n",
    "    assert closest_point_index(x, C) == 1\n",
    "\n",
    "    # k=3, N=3\n",
    "    x = np.array([2, 5, 4])\n",
    "    C = np.array([[3, 4, 5], [0, 1, 0], [2, 5, -4]])\n",
    "    assert closest_point_index(x, C) == 0\n",
    "\n",
    "    # k=5, N=4\n",
    "    x = np.array([4.5, 8.8, 3.0, 6.4])\n",
    "    C = np.array(\n",
    "        [\n",
    "            [8.0, 9.52, 3.16, 5.4],\n",
    "            [2.9, 8.52, 2.19, 5.97],\n",
    "            [5.43, 9.4, 3.18, 5.29],\n",
    "            [2.4, 14.34, 1.84, 9.97],\n",
    "            [2.95, 8.79, 1.89, 8.22],\n",
    "        ]\n",
    "    )\n",
    "    assert closest_point_index(x, C) == 2"
   ]
  },
  {
   "cell_type": "markdown",
   "metadata": {},
   "source": [
    "## Oppgave 3: Velge tilfeldige punkter\n",
    "K-means-algoritmen trenger noen tilfeldige datapunkter fra datasettet før den kan\n",
    "begynne å iterere seg mot en ferdig klynging. Implementer en funksjon som velger $k$\n",
    "tilfeldige datapunkter fra ei datamatrise $X$ (uten tilbakelegging)."
   ]
  },
  {
   "cell_type": "code",
   "execution_count": 69,
   "metadata": {},
   "outputs": [],
   "source": [
    "def choose_random_points(X: NDArray, k: int) -> NDArray:\n",
    "    \"\"\"Randomly choose k row vectors from matrix\n",
    "\n",
    "    Parameters\n",
    "    ----------\n",
    "    X: NDArray\n",
    "        NumPy matrix of shape (M,N) (M row vectors of length N)\n",
    "    k: int\n",
    "        Number of vectors to choose at random (integer)\n",
    "\n",
    "    Returns\n",
    "    -------\n",
    "    C: NDArray\n",
    "        Subset of X, containing k randomly chosen row vectors.\n",
    "        Shape (k,N).\n",
    "\n",
    "    Raises\n",
    "    ------\n",
    "    ValueError\n",
    "        Vectors are chosen without replacement. Using a k larger than the\n",
    "        number of vectors in X raises a ValueError.\n",
    "    \"\"\"\n",
    "    temp_x = X\n",
    "    C = np.zeros((k, len(X[0])))\n",
    "\n",
    "    for i in range(k):\n",
    "        random_number = random.randint(0, len(temp_x)-1)\n",
    "        C[i] = temp_x[random_number]\n",
    "        temp_x = np.delete(temp_x, random_number, axis=0)\n",
    "    return C"
   ]
  },
  {
   "cell_type": "code",
   "execution_count": 70,
   "metadata": {},
   "outputs": [
    {
     "name": "stdout",
     "output_type": "stream",
     "text": [
      "\u001b[32m.\u001b[0m\u001b[32m.\u001b[0m\u001b[32m.\u001b[0m\u001b[32m                                                                                          [100%]\u001b[0m\n",
      "\u001b[32m\u001b[32m\u001b[1m3 passed\u001b[0m\u001b[32m in 0.02s\u001b[0m\u001b[0m\n"
     ]
    }
   ],
   "source": [
    "%%ipytest\n",
    "\n",
    "\n",
    "def test_choose_random_points_1():\n",
    "    \"\"\"Check that k unique rows have been randomly selected\"\"\"\n",
    "    k = 9\n",
    "    X = np.random.standard_normal(size=(10, 2))\n",
    "    C = choose_random_points(X, k=k)\n",
    "    assert all(\n",
    "        [row in X.tolist() for row in C.tolist()]\n",
    "    )  # Check that every row in C is in X\n",
    "    assert len(np.unique(C, axis=0)) == 9  # Check that every row is unique\n",
    "\n",
    "\n",
    "def test_choose_random_points_2():\n",
    "    \"\"\"Check that returned subset is not always the same\"\"\"\n",
    "    k = 3\n",
    "    X = np.random.standard_normal(size=(20, 2))\n",
    "    C1 = choose_random_points(X, k=k)\n",
    "    C2 = choose_random_points(X, k=k)\n",
    "    assert ~np.all(C1 == C2)\n",
    "\n",
    "\n",
    "def test_choose_random_points_3():\n",
    "    \"\"\"Check that a ValueError is raised if k is too large\"\"\"\n",
    "    k = 9\n",
    "    X = np.random.standard_normal(size=(8, 2))\n",
    "    with pytest.raises(ValueError):\n",
    "        C = choose_random_points(X, k=k)\n"
   ]
  },
  {
   "cell_type": "markdown",
   "metadata": {},
   "source": [
    "## Oppgave 4: Finn nærmeste tyngdepunkt for alle datapunkter\n",
    "Implementer en funksjon som går gjennom alle datapunktene i ei datamatrise $X$,\n",
    "sammenligner hvert datapunkt med et sett med tyngdepunkter $C$, og finner indeks til\n",
    "tyngdepunktet som ligger nærmest datapunktet. "
   ]
  },
  {
   "cell_type": "code",
   "execution_count": 71,
   "metadata": {},
   "outputs": [],
   "source": [
    "def find_closest_centroid(X: NDArray, C: NDArray) -> NDArray:\n",
    "    \"\"\"Find index to closest centroid for every datapoint\n",
    "\n",
    "    Parameters\n",
    "    ----------\n",
    "    X: NDArray\n",
    "        NumPy matrix of shape (M,N) (M row vectors of length N)\n",
    "    C: NDArray\n",
    "        NumPy matrix of shape (k,N), representing centroids\n",
    "        for k clusters.\n",
    "\n",
    "    Returns\n",
    "    -------\n",
    "    y: NDArray\n",
    "        NumPy vector, shape (M,), with values in range [0,1,...,k-1].\n",
    "        y represents a \"cluster index\" for each data point in X.\n",
    "        If X[i,:] is closest to centroid C[j,:], then y[i] = j.\n",
    "        y has an integer data type.\n",
    "    \"\"\"\n",
    "    import math\n",
    "    M = X.shape[0]\n",
    "    N = X.shape[1]\n",
    "    k = C.shape[0]\n",
    "\n",
    "    y = np.zeros(M,)\n",
    "    for i in range(M):\n",
    "        min_d = math.inf\n",
    "        min_index = -1\n",
    "        for j in range(k):\n",
    "            d = distance(X[i], C[j])\n",
    "            if d < min_d:\n",
    "                min_d = d\n",
    "                min_index = j\n",
    "        y[i] = min_index\n",
    "    return y\n"
   ]
  },
  {
   "cell_type": "code",
   "execution_count": 72,
   "metadata": {},
   "outputs": [
    {
     "name": "stdout",
     "output_type": "stream",
     "text": [
      "\u001b[32m.\u001b[0m\u001b[32m.\u001b[0m\u001b[32m                                                                                           [100%]\u001b[0m\n",
      "\u001b[32m\u001b[32m\u001b[1m2 passed\u001b[0m\u001b[32m in 0.01s\u001b[0m\u001b[0m\n"
     ]
    }
   ],
   "source": [
    "%%ipytest\n",
    "\n",
    "\n",
    "def test_find_closest_centroid_1():\n",
    "    \"\"\"Find closest centroids using small dataset with 2 centroids\"\"\"\n",
    "    C = np.array([[1, 2], [1, -1]])\n",
    "    X = np.array([[0, 0], [2, 2], [3, 1], [-1, -2]])\n",
    "    assert np.all(find_closest_centroid(X, C) == np.array([1, 0, 0, 1]))\n",
    "\n",
    "\n",
    "def test_find_closest_centroid_2():\n",
    "    \"\"\"Find closest centroids using larger dataset with 3 centroids\"\"\"\n",
    "    X = np.array(\n",
    "        [\n",
    "            [-1.56, 1.54, 1.49],\n",
    "            [-0.19, 0.53, 1.82],\n",
    "            [0.14, 1.97, 0.76],\n",
    "            [1.16, -0.62, -0.09],\n",
    "            [-0.47, 2.07, 1.25],\n",
    "            [-0.44, 2.25, 1.33],\n",
    "            [-0.72, 0.39, 1.16],\n",
    "            [1.13, -0.59, 0.16],\n",
    "        ]\n",
    "    )\n",
    "    C = np.array([[0, 2, 1], [-1, 1, 2], [1, -1, 0]])\n",
    "    assert np.all(find_closest_centroid(X, C) == np.array([[1, 1, 0, 2, 0, 0, 1, 2]]))"
   ]
  },
  {
   "cell_type": "markdown",
   "metadata": {},
   "source": [
    "## Oppgave 5: Beregne nye tyngdepunkt\n",
    "Implementer en funksjon som tar utgangspunkt i ei datamatrise $X$ og et sett med heltall\n",
    "$y$ (indekser) som indikerer hvilket tyngdepunkt hvert datapunkt er nærmest til. Beregn\n",
    "nye tyngdepunkter basert på gjennomsnittsverdiene for alle datapunkter som har samme y-verdi."
   ]
  },
  {
   "cell_type": "code",
   "execution_count": 73,
   "metadata": {},
   "outputs": [],
   "source": [
    "def calculate_new_centroids(X: NDArray, y: NDArray) -> NDArray:\n",
    "    \"\"\"Calculate centroid for each of k clusters\n",
    "\n",
    "    Parameters\n",
    "    ----------\n",
    "    X: NDArray\n",
    "        NumPy matrix, shape (M,N) (M row vectors of length N)\n",
    "    y: NDArray\n",
    "        Cluster index, shape (M,), with values in range [0,1,...,k-1],\n",
    "        where k is the number of clusters. Integer data type.\n",
    "\n",
    "    Returns\n",
    "    -------\n",
    "    C: NDArray\n",
    "        NumPy matrix, shape (k,N), containg the centroids of each cluster.\n",
    "        C[i,:] corresponds to the columnwise mean of all datapoints in X\n",
    "        for which y==i.\n",
    "    \"\"\"\n",
    "    k = len(np.unique(y))\n",
    "    M = X.shape[0]\n",
    "    N = X.shape[1]\n",
    "    C = np.zeros((k, N))\n",
    "    #print(f\"y Shape: {y.shape}\")\n",
    "    #print(f\"X Shape: {X.shape}\")\n",
    "    #print(f\"C Shape: {C.shape}\")\n",
    "    #print(f\"M: {M} N: {N} k: {k}\")\n",
    "\n",
    "    for i in range(k):\n",
    "        y_k = np.where(y == i)\n",
    "\n",
    "        if np.all(np.isnan(X[y_k])): # Denne er gjennomført med hjelp fra ChatGPT.\n",
    "            C[i,:] = np.full(X.shape[1], np.nan)\n",
    "        else:\n",
    "            C[i,:] = np.nanmean(X[y_k], axis=0)\n",
    "    return C"
   ]
  },
  {
   "cell_type": "code",
   "execution_count": 74,
   "metadata": {},
   "outputs": [
    {
     "name": "stdout",
     "output_type": "stream",
     "text": [
      "\u001b[32m.\u001b[0m\u001b[32m.\u001b[0m\u001b[32m                                                                                           [100%]\u001b[0m\n",
      "\u001b[32m\u001b[32m\u001b[1m2 passed\u001b[0m\u001b[32m in 0.01s\u001b[0m\u001b[0m\n"
     ]
    }
   ],
   "source": [
    "%%ipytest\n",
    "\n",
    "\n",
    "def test_calculate_new_centroids_1():\n",
    "    \"\"\"Calculate new centroids C based on cluster labels y - simple data\"\"\"\n",
    "    X = np.array([[-1, 1], [-2, 1], [-1, 2], [1, 1], [2, 1], [1, 0]])\n",
    "    y = np.array([0, 0, 0, 1, 1, 1])\n",
    "    C_expected = np.array([[-1.33333, 1.33333], [1.33333, 0.66667]])\n",
    "    C = calculate_new_centroids(X, y)\n",
    "    assert np.all(np.isclose(C, C_expected))\n",
    "\n",
    "\n",
    "def test_calculate_new_centroids_2():\n",
    "    \"\"\"Calculate new centroids C based on cluster labels y - more complex data\"\"\"\n",
    "    X = np.array(\n",
    "        [\n",
    "            [0.9019, 2.1586, 1.0051],\n",
    "            [0.9800, -0.8962, -0.1446],\n",
    "            [0.1207, 2.5913, 1.0828],\n",
    "            [-0.8316, 1.4617, 1.5962],\n",
    "            [0.7877, -1.4053, 0.4038],\n",
    "            [-1.5502, 0.3085, 3.0831],\n",
    "            [-0.8237, 0.5338, 2.3064],\n",
    "            [-0.3278, 2.0823, 0.7317],\n",
    "        ]\n",
    "    )\n",
    "    y = np.array([0, 2, 0, 0, 2, 1, 1, 0])\n",
    "    C_expected = np.array(\n",
    "        [\n",
    "            [-0.0342, 2.073475, 1.10395],\n",
    "            [-1.18695, 0.42115, 2.69475],\n",
    "            [0.88385, -1.15075, 0.1296],\n",
    "        ]\n",
    "    )\n",
    "    C = calculate_new_centroids(X, y)\n",
    "    assert np.all(np.isclose(C, C_expected))"
   ]
  },
  {
   "cell_type": "markdown",
   "metadata": {},
   "source": [
    "## Oppgave 6: En enkelt K-means-iterasjon\n",
    "K-means er en iterativ algoritme som starter med et (tilfeldig) estimat av tyngdepunkter\n",
    "i klyngene. Implementer en funksjon som gjennomfører en enkelt iterasjon av algoritmen."
   ]
  },
  {
   "cell_type": "code",
   "execution_count": 75,
   "metadata": {},
   "outputs": [],
   "source": [
    "def kmeans_iteration(X: NDArray, C: NDArray) -> tuple[NDArray, NDArray]:\n",
    "    \"\"\"Perform a single iteration of the k-means algorithm\n",
    "\n",
    "    Parameters\n",
    "    ----------\n",
    "    X: NDArray\n",
    "        NumPy matrix, shape (M,N) (M row vectors of length N)\n",
    "        Contains input data points to be clustered\n",
    "    C: NDArray\n",
    "        NumPy matrix, shape (k,N) (k row vectors of length N)\n",
    "        Contains k cluster centroid vectors.\n",
    "\n",
    "    Returns\n",
    "    -------\n",
    "    y: NDArray\n",
    "        Class label vector, shape Mx1 (one element for each row of X).\n",
    "        Corresponds to the indices of rows in C for which each\n",
    "        vector in X is closest.\n",
    "        If X[i,:] is closest to centroid C[j,:], then y[i] = j.\n",
    "    C_next: NDArray\n",
    "        Modified version of C based on calculated class labels y.\n",
    "        C[i,:] corresponds to the columnwise mean of all datapoints\n",
    "        in X for which y==i.\n",
    "    \"\"\"\n",
    "    M = X.shape[0]\n",
    "    N = X.shape[1]\n",
    "    k = C.shape[0]\n",
    "    # print(f\"M: {M}, N: {N}, k: {k}\")\n",
    "\n",
    "    y = np.zeros(M, )\n",
    "    y = find_closest_centroid(X, C)\n",
    "    C_next = calculate_new_centroids(X, y)\n",
    "    \n",
    "    return y, C_next"
   ]
  },
  {
   "cell_type": "code",
   "execution_count": 76,
   "metadata": {},
   "outputs": [
    {
     "name": "stdout",
     "output_type": "stream",
     "text": [
      "\u001b[32m.\u001b[0m\u001b[32m                                                                                            [100%]\u001b[0m\n",
      "\u001b[32m\u001b[32m\u001b[1m1 passed\u001b[0m\u001b[32m in 0.01s\u001b[0m\u001b[0m\n"
     ]
    }
   ],
   "source": [
    "%%ipytest\n",
    "\n",
    "\n",
    "def test_kmeans_iteration():\n",
    "    \"\"\"Test K-means iteration with simple case of 2 clusters with 4 points in each\"\"\"\n",
    "    X = np.array(\n",
    "        [\n",
    "            [1, 1],  # Two \"square\" clusters offset from one another\n",
    "            [2, 1],\n",
    "            [4, 3],\n",
    "            [5, 3],\n",
    "            [4, 4],\n",
    "            [1, 2],\n",
    "            [2, 2],\n",
    "            [5, 4],\n",
    "        ]\n",
    "    )\n",
    "    C = np.array([[1, 0], [5, 5]])  # Initial centroids outside clusters in X\n",
    "    y_expected = np.array([0, 0, 1, 1, 1, 0, 0, 1])\n",
    "    C_next_expected = np.array([[1.5, 1.5], [4.5, 3.5]])\n",
    "    y, C_next = kmeans_iteration(X, C)\n",
    "    assert np.all(np.isclose(C_next, C_next_expected))\n",
    "    assert np.all(np.isclose(y, y_expected))"
   ]
  },
  {
   "cell_type": "markdown",
   "metadata": {},
   "source": [
    "## Oppgave 7: K-means\n",
    "Bruk byggeblokkene du har laget så langt og implementer hele K-means-algoritmen. "
   ]
  },
  {
   "cell_type": "code",
   "execution_count": 77,
   "metadata": {},
   "outputs": [],
   "source": [
    "def kmeans(X: NDArray, k: int, maxiter: int = 100) -> tuple[NDArray, NDArray]:\n",
    "    \"\"\"Cluster data points into fixed number of clusters using K-means\n",
    "\n",
    "    Parameters\n",
    "    ----------\n",
    "    X: NDArray\n",
    "        NumPy Matrix, shape (M,N) (M row vectors of length N)\n",
    "    k: int\n",
    "        Number of clusters. Must be <= M\n",
    "    maxiter: int\n",
    "        Maximum number of iterations\n",
    "\n",
    "    Returns\n",
    "    -------\n",
    "    y: NDArray\n",
    "        NumPy array, shape (M,), with indices in range [0,1,...,k-1],\n",
    "        indicating the cluster number of each data point in X\n",
    "    C: NDArray\n",
    "        NumPy matrix, shape (k,N) (k row vectors of length N)\n",
    "        Contains k cluster centroid vectors.\n",
    "\n",
    "    # Notes:\n",
    "    - If k>M, a ValueError is raised.\n",
    "    \"\"\"\n",
    "    M = X.shape[0]\n",
    "    N = X.shape[1]\n",
    "    #k = k\n",
    "\n",
    "    C = choose_random_points(X, k)\n",
    "    \n",
    "    for i in range(maxiter):\n",
    "        y, C = kmeans_iteration(X, C)\n",
    "\n",
    "    return y, C"
   ]
  },
  {
   "cell_type": "code",
   "execution_count": 78,
   "metadata": {},
   "outputs": [
    {
     "name": "stdout",
     "output_type": "stream",
     "text": [
      "\u001b[32m.\u001b[0m\u001b[32m                                                                                            [100%]\u001b[0m\n",
      "\u001b[32m\u001b[32m\u001b[1m1 passed\u001b[0m\u001b[32m in 0.42s\u001b[0m\u001b[0m\n"
     ]
    }
   ],
   "source": [
    "%%ipytest\n",
    "\n",
    "\n",
    "def test_kmeans_1():  # 3p\n",
    "    \"\"\"Test K-means on simple dataset with two compact, well-separated clusters\"\"\"\n",
    "    C_true = np.array(\n",
    "        [[0, 2], [2, 0]]\n",
    "    )  # \"True\" centroids (generate random points close to these)\n",
    "    score = []  # List for homogenity score\n",
    "\n",
    "    for i in range(10):  # Run 10 tests to account for random nature of algorithm\n",
    "        X, y_true = sklearn.datasets.make_blobs(centers=C_true, cluster_std=0.2)\n",
    "        y_cluster, C_cluster = kmeans(X, k=2)\n",
    "        C_cluster_sorted = C_cluster[\n",
    "            C_cluster[:, 0].argsort()\n",
    "        ]  # Sort cluster centroids for one-to-one comparison\n",
    "        C_mean_dist = np.sqrt(\n",
    "            np.mean((C_true - C_cluster_sorted) ** 2)\n",
    "        )  # Mean distance between \"true\" and estimated centroids\n",
    "        assert C_mean_dist < 0.1\n",
    "        score.append(sklearn.metrics.homogeneity_score(y_true, y_cluster))\n",
    "\n",
    "    assert (\n",
    "        np.mean(np.array(score)) > 0.90\n",
    "    )  # Score should be 1, but allow for some random variation\n"
   ]
  },
  {
   "cell_type": "markdown",
   "metadata": {},
   "source": [
    "## Oppgave 8: Clustering på pingvin-datasett\n",
    "- Les inn de 4 numeriske verdiene fra datasettet i `palmer_penguins.csv`. \n",
    "- Legg verdiene i en datamatrise og normaliser matrisa med z-score.\n",
    "- Anta k=3 og kjør K-means på datasettet. Bruk alle 4 features.\n",
    "- Konverter pingvinartene (\"Adelie\", \"Gentoo\", \"Chinstrap\") i datasettet til en vektor med heltallene\n",
    "  0, 1, og 2. \n",
    "- Plott datasettet ved å plotte `culmen_length_mm` mot `flipper_length_mm` (som \"scatterplott\"). Lag to\n",
    "  versjoner av samme plott:\n",
    "    - En versjon der du bruker heltallene som viser de \"sanne\" klassene til pingvinene.\n",
    "      Bruk argumentet `c` i `scatter()`-funksjonen for å gi ulike farger til klassene.\n",
    "    - En versjon som viser resultatet av K-means-algoritmen. Bruk y-vektoren fra\n",
    "      algoritmen til å fargelegge klyngene.\n",
    "- Kommentér kort på resultatet (forskjeller / likheter mellom plottene, evt. andre\n",
    "  observasjoner)\n",
    "\n",
    "OBS: Du skal bruke din egen versjon av K-means, ikke en versjon fra et bibliotek. :)"
   ]
  },
  {
   "cell_type": "code",
   "execution_count": 91,
   "metadata": {},
   "outputs": [
    {
     "data": {
      "text/plain": [
       "<matplotlib.collections.PathCollection at 0x1c365acb9d0>"
      ]
     },
     "execution_count": 91,
     "metadata": {},
     "output_type": "execute_result"
    },
    {
     "data": {
      "image/png": "[encoded data removed]",
      "text/plain": [
       "<Figure size 640x480 with 1 Axes>"
      ]
     },
     "metadata": {},
     "output_type": "display_data"
    }
   ],
   "source": [
    "# Your code here\n",
    "import csv\n",
    "from pathlib import Path\n",
    "\n",
    "def read_from_csv(csv_file_path: Path | str, delimiter: str):\n",
    "    with open(csv_file_path, newline='') as csv_file:\n",
    "        csv_reader = csv.reader(csv_file, delimiter=delimiter)\n",
    "        header = next(csv_reader)\n",
    "        content = []\n",
    "        for x in csv_reader:\n",
    "            content.append(x)\n",
    "    return np.array(header), np.array(content)\n",
    "\n",
    "def is_number(element):\n",
    "    try:\n",
    "        float(s)\n",
    "        return True\n",
    "    except ValueError:\n",
    "        return False\n",
    "\n",
    "def check_content_is_in_matrix(header, desired_values):\n",
    "    check_list = []\n",
    "    for i in range(len(header)):\n",
    "        if header[i] in desired_values:\n",
    "            check_list.append(True)\n",
    "        else:\n",
    "            check_list.append(False)\n",
    "    return check_list\n",
    "    \n",
    "\n",
    "def replace_NA(X):\n",
    "    for i in range(len(X)):\n",
    "        for j in range(len(X[i])):\n",
    "            if X[i][j] == 'NA':\n",
    "                X[i][j] = np.nan\n",
    "    return X\n",
    "                \n",
    "\n",
    "def normalize_data(X):\n",
    "    length = len(X[1,:])\n",
    "\n",
    "    X = np.array(X, dtype='f')\n",
    "        \n",
    "    for i in range(length):\n",
    "        std = np.nanstd(X[:, i])\n",
    "        mean = np.nanmean(X[:, i])\n",
    "        for z in range(len(X[:, i])):\n",
    "            X[:, i][z] = ((X[:, i][z] - mean)/std)\n",
    "    return X\n",
    "\n",
    "header, content = read_from_csv('palmer_penguins.csv', ',')\n",
    "numeric_columns = np.array(['culmen_length_mm', 'culmen_depth_mm', 'flipper_length_mm', 'body_mass_g'])\n",
    "check_list = check_content_is_in_matrix(header, numeric_columns)\n",
    "content = replace_NA(content[:, check_list])\n",
    "content = normalize_data(content)\n",
    "\n",
    "\n",
    "k = 3\n",
    "maxiter = 100\n",
    "y, C = kmeans(content, k, maxiter)\n",
    "\n",
    "# Gjør om dette til en liste med lister.\n",
    "# Basert på k, dersom tid.\n",
    "list_0 = content[y == 0]\n",
    "list_1 = content[y == 1]\n",
    "list_2 = content[y == 2]\n",
    "\n",
    "plt.scatter(list_0[:, 0], list_0[:, 2])\n",
    "plt.scatter(list_1[:, 0], list_1[:, 2])\n",
    "plt.scatter(list_2[:, 0], list_2[:, 2])\n",
    "#plt.scatter(X_clusters[closest_1, 0], X_clusters[closest_1, 1], label=\"Closest to c_1\")\n",
    "\n",
    "plt.scatter(\n",
    "    C[:, 0],\n",
    "    C[:, 2],\n",
    "    marker=\"o\",\n",
    "    s=200,\n",
    "    facecolors=\"none\",\n",
    "    edgecolors=\"k\",\n",
    "    label=\"new C\",\n",
    ")\n",
    "\n",
    "\n"
   ]
  },
  {
   "cell_type": "markdown",
   "metadata": {},
   "source": [
    "Utifra resultatet ser det ut som at de blir gruppert greit, men nå har jeg ikke fått sjekket dette opp mot korrekt data.\n",
    "\n",
    "Dersom jeg hadde fått tid ville jeg laget en test (slik som ble brukt på oppg 7), og testet effektiviteten basert på dette.\n",
    "Fikk ikke tid til å konvertere Artene til nummer.\n"
   ]
  },
  {
   "cell_type": "code",
   "execution_count": null,
   "metadata": {},
   "outputs": [],
   "source": []
  }
 ],
 "metadata": {
  "kernelspec": {
   "display_name": "Python 3 (ipykernel)",
   "language": "python",
   "name": "python3"
  },
  "language_info": {
   "codemirror_mode": {
    "name": "ipython",
    "version": 3
   },
   "file_extension": ".py",
   "mimetype": "text/x-python",
   "name": "python",
   "nbconvert_exporter": "python",
   "pygments_lexer": "ipython3",
   "version": "3.13.0"
  }
 },
 "nbformat": 4,
 "nbformat_minor": 4
}
