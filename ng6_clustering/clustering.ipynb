{
 "cells": [
  {
   "cell_type": "markdown",
   "metadata": {},
   "source": [
    "# Clustering\n",
    "Denne innleveringen omhandler \"clustering\" eller \"klynging\", som er en form for\n",
    "\"unsupervised learning\". Dette temaet er presentert i videoer relatert til denne\n",
    "modulen, og beskrives ikke i detalj her i selve oppgave-notebook'en. \n",
    "\n",
    "Oppgavene du skal løse fungerer som små byggeblokker eller steg på veien som til slutt\n",
    "kombineres til en fungerende clustering-algoritme (K-means). Vær litt obs på dette - du\n",
    "skal \"gjenbruke\" funksjonene fra de første oppgavene i de senere oppgavene.  \n",
    "\n",
    "Vi importerer først modulene vi trenger:"
   ]
  },
  {
   "cell_type": "code",
   "execution_count": 48,
   "metadata": {},
   "outputs": [],
   "source": [
    "# Imports\n",
    "import numpy as np  # For vectors and matrices\n",
    "import random\n",
    "from numpy.typing import NDArray\n",
    "import ipytest\n",
    "import csv\n",
    "import matplotlib.pyplot as plt\n",
    "import pytest\n",
    "import sklearn.datasets\n",
    "import sklearn.metrics"
   ]
  },
  {
   "cell_type": "code",
   "execution_count": 49,
   "metadata": {},
   "outputs": [],
   "source": [
    "# Set up pytest for Jupyter notebooks\n",
    "ipytest.autoconfig()"
   ]
  },
  {
   "cell_type": "markdown",
   "metadata": {},
   "source": [
    "## Oppgave 1: Distanse-funksjon\n",
    "Implementer en funksjon som beregner den Euklidske distansen mellom 2 vektorer.\n",
    "Vektorene kan et villkårlig antall elementer/\"dimensjoner\" (2,3, eller flere). "
   ]
  },
  {
   "cell_type": "code",
   "execution_count": 50,
   "metadata": {},
   "outputs": [],
   "source": [
    "def distance(a: NDArray, b: NDArray) -> float:\n",
    "    \"\"\"Calculate Euclidian distance between two vectors\n",
    "\n",
    "    Parameters\n",
    "    ----------\n",
    "    a: NDArray\n",
    "        First vector (NumPy array)\n",
    "    b: NDArray\n",
    "        Second vector (NumPy array), same length as a\n",
    "\n",
    "    Returns\n",
    "    -------\n",
    "    d : float\n",
    "        Euclidian distance between a and b\n",
    "\n",
    "    \"\"\"\n",
    "    if a.shape != b.shape:\n",
    "        return -1\n",
    "        \n",
    "    d = 0\n",
    "    for col in range(0, len(a)):\n",
    "        d += ((a[col]- b[col])**2)\n",
    "      \n",
    "    d = d**0.5\n",
    "    return d\n"
   ]
  },
  {
   "cell_type": "code",
   "execution_count": 51,
   "metadata": {},
   "outputs": [
    {
     "name": "stdout",
     "output_type": "stream",
     "text": [
      "\u001b[32m.\u001b[0m\u001b[32m                                                                                            [100%]\u001b[0m\n",
      "\u001b[32m\u001b[32m\u001b[1m1 passed\u001b[0m\u001b[32m in 0.01s\u001b[0m\u001b[0m\n"
     ]
    }
   ],
   "source": [
    "%%ipytest\n",
    "\n",
    "\n",
    "def test_distance():\n",
    "    \"\"\"Test calculation of distance for vectors of different lengths\"\"\"\n",
    "    assert distance(np.array([7]), np.array([4])) == 3.0  # 1D\n",
    "    assert distance(np.array([6, 4]), np.array([2, 1])) == 5.0  # 2D\n",
    "    assert distance(np.array([-4, 7, 5.5]), np.array([2, 3.14, 9])) == pytest.approx(\n",
    "        7.9466722\n",
    "    )  # 3D\n",
    "    assert distance(\n",
    "        np.array([99.7, -29, -77.3, 35]), np.array([50.1, 70.2, 75.9, -33.33])\n",
    "    ) == pytest.approx(201.097063)  # 4D\n"
   ]
  },
  {
   "cell_type": "markdown",
   "metadata": {},
   "source": [
    "## Oppgave 2: Finne nærmeste punkt\n",
    "Implementer en funksjon som finner tar utgangspunkt i et datapunkt $x$, sammenligner det\n",
    "med flere datapunkter samlet i ei matrise $C$, og som så returnerer indeks til punktet i $C$ som\n",
    "ligger nærmest $x$."
   ]
  },
  {
   "cell_type": "code",
   "execution_count": 52,
   "metadata": {},
   "outputs": [],
   "source": [
    "def closest_point_index(x: NDArray, C: NDArray) -> int:\n",
    "    \"\"\"Find index of closest point in vector space\n",
    "\n",
    "    Parameters\n",
    "    ----------\n",
    "    x: NDArray\n",
    "        NumPy vector, shape (N,)\n",
    "    C: NDArray\n",
    "        NumPy matrix, shape (k,N), corresponding to k row vectors\n",
    "        with the same length as x\n",
    "\n",
    "    Returns\n",
    "    -------\n",
    "    i: int\n",
    "        Index of row vector in C which is closest to x\n",
    "        Index is in range [0,1,...,k-1].\n",
    "    \"\"\"\n",
    "\n",
    "    import math\n",
    "    d = math.inf\n",
    "    i=0\n",
    "    for N in range(0, len(C)):\n",
    "        cur_d = 0\n",
    "        for k in range(0, len(x)):\n",
    "            cur_d += distance(x, C[N])\n",
    "        cur_d = cur_d**0.5\n",
    "\n",
    "        if d > cur_d:\n",
    "            d = cur_d\n",
    "            i = N\n",
    "\n",
    "    return i"
   ]
  },
  {
   "cell_type": "code",
   "execution_count": 53,
   "metadata": {},
   "outputs": [
    {
     "name": "stdout",
     "output_type": "stream",
     "text": [
      "\u001b[32m.\u001b[0m\u001b[32m                                                                                            [100%]\u001b[0m\n",
      "\u001b[32m\u001b[32m\u001b[1m1 passed\u001b[0m\u001b[32m in 0.01s\u001b[0m\u001b[0m\n"
     ]
    }
   ],
   "source": [
    "%%ipytest\n",
    "\n",
    "\n",
    "def test_closest_point_index():\n",
    "    \"\"\"Test calculation of which point in C is closest to point x\"\"\"\n",
    "    # k=2, N=2\n",
    "    x = np.array([2, 2])\n",
    "    C = np.array([[0, 0], [3, 3]])\n",
    "    assert closest_point_index(x, C) == 1\n",
    "\n",
    "    # k=3, N=3\n",
    "    x = np.array([2, 5, 4])\n",
    "    C = np.array([[3, 4, 5], [0, 1, 0], [2, 5, -4]])\n",
    "    assert closest_point_index(x, C) == 0\n",
    "\n",
    "    # k=5, N=4\n",
    "    x = np.array([4.5, 8.8, 3.0, 6.4])\n",
    "    C = np.array(\n",
    "        [\n",
    "            [8.0, 9.52, 3.16, 5.4],\n",
    "            [2.9, 8.52, 2.19, 5.97],\n",
    "            [5.43, 9.4, 3.18, 5.29],\n",
    "            [2.4, 14.34, 1.84, 9.97],\n",
    "            [2.95, 8.79, 1.89, 8.22],\n",
    "        ]\n",
    "    )\n",
    "    assert closest_point_index(x, C) == 2"
   ]
  },
  {
   "cell_type": "markdown",
   "metadata": {},
   "source": [
    "## Oppgave 3: Velge tilfeldige punkter\n",
    "K-means-algoritmen trenger noen tilfeldige datapunkter fra datasettet før den kan\n",
    "begynne å iterere seg mot en ferdig klynging. Implementer en funksjon som velger $k$\n",
    "tilfeldige datapunkter fra ei datamatrise $X$ (uten tilbakelegging)."
   ]
  },
  {
   "cell_type": "code",
   "execution_count": 54,
   "metadata": {},
   "outputs": [],
   "source": [
    "def choose_random_points(X: NDArray, k: int) -> NDArray:\n",
    "    \"\"\"Randomly choose k row vectors from matrix\n",
    "\n",
    "    Parameters\n",
    "    ----------\n",
    "    X: NDArray\n",
    "        NumPy matrix of shape (M,N) (M row vectors of length N)\n",
    "    k: int\n",
    "        Number of vectors to choose at random (integer)\n",
    "\n",
    "    Returns\n",
    "    -------\n",
    "    C: NDArray\n",
    "        Subset of X, containing k randomly chosen row vectors.\n",
    "        Shape (k,N).\n",
    "\n",
    "    Raises\n",
    "    ------\n",
    "    ValueError\n",
    "        Vectors are chosen without replacement. Using a k larger than the\n",
    "        number of vectors in X raises a ValueError.\n",
    "    \"\"\"\n",
    "    temp_x = X\n",
    "    C = np.zeros((k, len(X[0])))\n",
    "\n",
    "    for i in range(k):\n",
    "        random_number = random.randint(0, len(temp_x)-1)\n",
    "        C[i] = temp_x[random_number]\n",
    "        temp_x = np.delete(temp_x, random_number, axis=0)\n",
    "    return C"
   ]
  },
  {
   "cell_type": "code",
   "execution_count": 55,
   "metadata": {},
   "outputs": [
    {
     "name": "stdout",
     "output_type": "stream",
     "text": [
      "\u001b[32m.\u001b[0m\u001b[32m.\u001b[0m\u001b[32m.\u001b[0m\u001b[32m                                                                                          [100%]\u001b[0m\n",
      "\u001b[32m\u001b[32m\u001b[1m3 passed\u001b[0m\u001b[32m in 0.02s\u001b[0m\u001b[0m\n"
     ]
    }
   ],
   "source": [
    "%%ipytest\n",
    "\n",
    "\n",
    "def test_choose_random_points_1():\n",
    "    \"\"\"Check that k unique rows have been randomly selected\"\"\"\n",
    "    k = 9\n",
    "    X = np.random.standard_normal(size=(10, 2))\n",
    "    C = choose_random_points(X, k=k)\n",
    "    assert all(\n",
    "        [row in X.tolist() for row in C.tolist()]\n",
    "    )  # Check that every row in C is in X\n",
    "    assert len(np.unique(C, axis=0)) == 9  # Check that every row is unique\n",
    "\n",
    "\n",
    "def test_choose_random_points_2():\n",
    "    \"\"\"Check that returned subset is not always the same\"\"\"\n",
    "    k = 3\n",
    "    X = np.random.standard_normal(size=(20, 2))\n",
    "    C1 = choose_random_points(X, k=k)\n",
    "    C2 = choose_random_points(X, k=k)\n",
    "    assert ~np.all(C1 == C2)\n",
    "\n",
    "\n",
    "def test_choose_random_points_3():\n",
    "    \"\"\"Check that a ValueError is raised if k is too large\"\"\"\n",
    "    k = 9\n",
    "    X = np.random.standard_normal(size=(8, 2))\n",
    "    with pytest.raises(ValueError):\n",
    "        C = choose_random_points(X, k=k)\n"
   ]
  },
  {
   "cell_type": "markdown",
   "metadata": {},
   "source": [
    "## Oppgave 4: Finn nærmeste tyngdepunkt for alle datapunkter\n",
    "Implementer en funksjon som går gjennom alle datapunktene i ei datamatrise $X$,\n",
    "sammenligner hvert datapunkt med et sett med tyngdepunkter $C$, og finner indeks til\n",
    "tyngdepunktet som ligger nærmest datapunktet. "
   ]
  },
  {
   "cell_type": "code",
   "execution_count": 56,
   "metadata": {},
   "outputs": [],
   "source": [
    "def find_closest_centroid(X: NDArray, C: NDArray) -> NDArray:\n",
    "    \"\"\"Find index to closest centroid for every datapoint\n",
    "\n",
    "    Parameters\n",
    "    ----------\n",
    "    X: NDArray\n",
    "        NumPy matrix of shape (M,N) (M row vectors of length N)\n",
    "    C: NDArray\n",
    "        NumPy matrix of shape (k,N), representing centroids\n",
    "        for k clusters.\n",
    "\n",
    "    Returns\n",
    "    -------\n",
    "    y: NDArray\n",
    "        NumPy vector, shape (M,), with values in range [0,1,...,k-1].\n",
    "        y represents a \"cluster index\" for each data point in X.\n",
    "        If X[i,:] is closest to centroid C[j,:], then y[i] = j.\n",
    "        y has an integer data type.\n",
    "    \"\"\"\n",
    "    import math\n",
    "    M = X.shape[0]\n",
    "    N = X.shape[1]\n",
    "    k = C.shape[0]\n",
    "\n",
    "    y = np.zeros(M,)\n",
    "    for i in range(M):\n",
    "        min_d = math.inf\n",
    "        min_index = -1\n",
    "        for j in range(k):\n",
    "            d = distance(X[i], C[j])\n",
    "            if d < min_d:\n",
    "                min_d = d\n",
    "                min_index = j\n",
    "        y[i] = min_index\n",
    "    return y\n"
   ]
  },
  {
   "cell_type": "code",
   "execution_count": 57,
   "metadata": {},
   "outputs": [
    {
     "name": "stdout",
     "output_type": "stream",
     "text": [
      "\u001b[32m.\u001b[0m\u001b[32m.\u001b[0m\u001b[32m                                                                                           [100%]\u001b[0m\n",
      "\u001b[32m\u001b[32m\u001b[1m2 passed\u001b[0m\u001b[32m in 0.02s\u001b[0m\u001b[0m\n"
     ]
    }
   ],
   "source": [
    "%%ipytest\n",
    "\n",
    "\n",
    "def test_find_closest_centroid_1():\n",
    "    \"\"\"Find closest centroids using small dataset with 2 centroids\"\"\"\n",
    "    C = np.array([[1, 2], [1, -1]])\n",
    "    X = np.array([[0, 0], [2, 2], [3, 1], [-1, -2]])\n",
    "    assert np.all(find_closest_centroid(X, C) == np.array([1, 0, 0, 1]))\n",
    "\n",
    "\n",
    "def test_find_closest_centroid_2():\n",
    "    \"\"\"Find closest centroids using larger dataset with 3 centroids\"\"\"\n",
    "    X = np.array(\n",
    "        [\n",
    "            [-1.56, 1.54, 1.49],\n",
    "            [-0.19, 0.53, 1.82],\n",
    "            [0.14, 1.97, 0.76],\n",
    "            [1.16, -0.62, -0.09],\n",
    "            [-0.47, 2.07, 1.25],\n",
    "            [-0.44, 2.25, 1.33],\n",
    "            [-0.72, 0.39, 1.16],\n",
    "            [1.13, -0.59, 0.16],\n",
    "        ]\n",
    "    )\n",
    "    C = np.array([[0, 2, 1], [-1, 1, 2], [1, -1, 0]])\n",
    "    assert np.all(find_closest_centroid(X, C) == np.array([[1, 1, 0, 2, 0, 0, 1, 2]]))"
   ]
  },
  {
   "cell_type": "markdown",
   "metadata": {},
   "source": [
    "## Oppgave 5: Beregne nye tyngdepunkt\n",
    "Implementer en funksjon som tar utgangspunkt i ei datamatrise $X$ og et sett med heltall\n",
    "$y$ (indekser) som indikerer hvilket tyngdepunkt hvert datapunkt er nærmest til. Beregn\n",
    "nye tyngdepunkter basert på gjennomsnittsverdiene for alle datapunkter som har samme y-verdi."
   ]
  },
  {
   "cell_type": "code",
   "execution_count": 58,
   "metadata": {},
   "outputs": [],
   "source": [
    "def calculate_new_centroids(X: NDArray, y: NDArray) -> NDArray:\n",
    "    \"\"\"Calculate centroid for each of k clusters\n",
    "\n",
    "    Parameters\n",
    "    ----------\n",
    "    X: NDArray\n",
    "        NumPy matrix, shape (M,N) (M row vectors of length N)\n",
    "    y: NDArray\n",
    "        Cluster index, shape (M,), with values in range [0,1,...,k-1],\n",
    "        where k is the number of clusters. Integer data type.\n",
    "\n",
    "    Returns\n",
    "    -------\n",
    "    C: NDArray\n",
    "        NumPy matrix, shape (k,N), containg the centroids of each cluster.\n",
    "        C[i,:] corresponds to the columnwise mean of all datapoints in X\n",
    "        for which y==i.\n",
    "    \"\"\"\n",
    "    k = len(np.unique(y))\n",
    "    M = X.shape[0]\n",
    "    N = X.shape[1]\n",
    "    C = np.zeros((k, N))\n",
    "    #print(f\"y Shape: {y.shape}\")\n",
    "    #print(f\"X Shape: {X.shape}\")\n",
    "    #print(f\"C Shape: {C.shape}\")\n",
    "    #print(f\"M: {M} N: {N} k: {k}\")\n",
    "\n",
    "    for i in range(k):\n",
    "        y_k = np.where(y == i)\n",
    "        #print(y_k)\n",
    "        C[i,:] = np.mean(X[y_k], axis=0)\n",
    "    return C"
   ]
  },
  {
   "cell_type": "code",
   "execution_count": 59,
   "metadata": {},
   "outputs": [
    {
     "name": "stdout",
     "output_type": "stream",
     "text": [
      "\u001b[32m.\u001b[0m\u001b[32m.\u001b[0m\u001b[32m                                                                                           [100%]\u001b[0m\n",
      "\u001b[32m\u001b[32m\u001b[1m2 passed\u001b[0m\u001b[32m in 0.02s\u001b[0m\u001b[0m\n"
     ]
    }
   ],
   "source": [
    "%%ipytest\n",
    "\n",
    "\n",
    "def test_calculate_new_centroids_1():\n",
    "    \"\"\"Calculate new centroids C based on cluster labels y - simple data\"\"\"\n",
    "    X = np.array([[-1, 1], [-2, 1], [-1, 2], [1, 1], [2, 1], [1, 0]])\n",
    "    y = np.array([0, 0, 0, 1, 1, 1])\n",
    "    C_expected = np.array([[-1.33333, 1.33333], [1.33333, 0.66667]])\n",
    "    C = calculate_new_centroids(X, y)\n",
    "    assert np.all(np.isclose(C, C_expected))\n",
    "\n",
    "\n",
    "def test_calculate_new_centroids_2():\n",
    "    \"\"\"Calculate new centroids C based on cluster labels y - more complex data\"\"\"\n",
    "    X = np.array(\n",
    "        [\n",
    "            [0.9019, 2.1586, 1.0051],\n",
    "            [0.9800, -0.8962, -0.1446],\n",
    "            [0.1207, 2.5913, 1.0828],\n",
    "            [-0.8316, 1.4617, 1.5962],\n",
    "            [0.7877, -1.4053, 0.4038],\n",
    "            [-1.5502, 0.3085, 3.0831],\n",
    "            [-0.8237, 0.5338, 2.3064],\n",
    "            [-0.3278, 2.0823, 0.7317],\n",
    "        ]\n",
    "    )\n",
    "    y = np.array([0, 2, 0, 0, 2, 1, 1, 0])\n",
    "    C_expected = np.array(\n",
    "        [\n",
    "            [-0.0342, 2.073475, 1.10395],\n",
    "            [-1.18695, 0.42115, 2.69475],\n",
    "            [0.88385, -1.15075, 0.1296],\n",
    "        ]\n",
    "    )\n",
    "    C = calculate_new_centroids(X, y)\n",
    "    assert np.all(np.isclose(C, C_expected))"
   ]
  },
  {
   "cell_type": "markdown",
   "metadata": {},
   "source": [
    "## Oppgave 6: En enkelt K-means-iterasjon\n",
    "K-means er en iterativ algoritme som starter med et (tilfeldig) estimat av tyngdepunkter\n",
    "i klyngene. Implementer en funksjon som gjennomfører en enkelt iterasjon av algoritmen."
   ]
  },
  {
   "cell_type": "code",
   "execution_count": 60,
   "metadata": {},
   "outputs": [],
   "source": [
    "def kmeans_iteration(X: NDArray, C: NDArray) -> tuple[NDArray, NDArray]:\n",
    "    \"\"\"Perform a single iteration of the k-means algorithm\n",
    "\n",
    "    Parameters\n",
    "    ----------\n",
    "    X: NDArray\n",
    "        NumPy matrix, shape (M,N) (M row vectors of length N)\n",
    "        Contains input data points to be clustered\n",
    "    C: NDArray\n",
    "        NumPy matrix, shape (k,N) (k row vectors of length N)\n",
    "        Contains k cluster centroid vectors.\n",
    "\n",
    "    Returns\n",
    "    -------\n",
    "    y: NDArray\n",
    "        Class label vector, shape Mx1 (one element for each row of X).\n",
    "        Corresponds to the indices of rows in C for which each\n",
    "        vector in X is closest.\n",
    "        If X[i,:] is closest to centroid C[j,:], then y[i] = j.\n",
    "    C_next: NDArray\n",
    "        Modified version of C based on calculated class labels y.\n",
    "        C[i,:] corresponds to the columnwise mean of all datapoints\n",
    "        in X for which y==i.\n",
    "    \"\"\"\n",
    "    M = X.shape[0]\n",
    "    N = X.shape[1]\n",
    "    k = C.shape[0]\n",
    "    # print(f\"M: {M}, N: {N}, k: {k}\")\n",
    "\n",
    "    y = np.zeros(M, )\n",
    "    y = find_closest_centroid(X, C)\n",
    "    C_next = calculate_new_centroids(X, y)\n",
    "    \n",
    "    return y, C_next"
   ]
  },
  {
   "cell_type": "code",
   "execution_count": 61,
   "metadata": {},
   "outputs": [
    {
     "name": "stdout",
     "output_type": "stream",
     "text": [
      "\u001b[32m.\u001b[0m\u001b[32m                                                                                            [100%]\u001b[0m\n",
      "\u001b[32m\u001b[32m\u001b[1m1 passed\u001b[0m\u001b[32m in 0.01s\u001b[0m\u001b[0m\n"
     ]
    }
   ],
   "source": [
    "%%ipytest\n",
    "\n",
    "\n",
    "def test_kmeans_iteration():\n",
    "    \"\"\"Test K-means iteration with simple case of 2 clusters with 4 points in each\"\"\"\n",
    "    X = np.array(\n",
    "        [\n",
    "            [1, 1],  # Two \"square\" clusters offset from one another\n",
    "            [2, 1],\n",
    "            [4, 3],\n",
    "            [5, 3],\n",
    "            [4, 4],\n",
    "            [1, 2],\n",
    "            [2, 2],\n",
    "            [5, 4],\n",
    "        ]\n",
    "    )\n",
    "    C = np.array([[1, 0], [5, 5]])  # Initial centroids outside clusters in X\n",
    "    y_expected = np.array([0, 0, 1, 1, 1, 0, 0, 1])\n",
    "    C_next_expected = np.array([[1.5, 1.5], [4.5, 3.5]])\n",
    "    y, C_next = kmeans_iteration(X, C)\n",
    "    assert np.all(np.isclose(C_next, C_next_expected))\n",
    "    assert np.all(np.isclose(y, y_expected))"
   ]
  },
  {
   "cell_type": "markdown",
   "metadata": {},
   "source": [
    "## Oppgave 7: K-means\n",
    "Bruk byggeblokkene du har laget så langt og implementer hele K-means-algoritmen. "
   ]
  },
  {
   "cell_type": "code",
   "execution_count": 62,
   "metadata": {},
   "outputs": [],
   "source": [
    "def kmeans(X: NDArray, k: int, maxiter: int = 100) -> tuple[NDArray, NDArray]:\n",
    "    \"\"\"Cluster data points into fixed number of clusters using K-means\n",
    "\n",
    "    Parameters\n",
    "    ----------\n",
    "    X: NDArray\n",
    "        NumPy Matrix, shape (M,N) (M row vectors of length N)\n",
    "    k: int\n",
    "        Number of clusters. Must be <= M\n",
    "    maxiter: int\n",
    "        Maximum number of iterations\n",
    "\n",
    "    Returns\n",
    "    -------\n",
    "    y: NDArray\n",
    "        NumPy array, shape (M,), with indices in range [0,1,...,k-1],\n",
    "        indicating the cluster number of each data point in X\n",
    "    C: NDArray\n",
    "        NumPy matrix, shape (k,N) (k row vectors of length N)\n",
    "        Contains k cluster centroid vectors.\n",
    "\n",
    "    # Notes:\n",
    "    - If k>M, a ValueError is raised.\n",
    "    \"\"\"\n",
    "    M = X.shape[0]\n",
    "    N = X.shape[1]\n",
    "    #k = k\n",
    "\n",
    "    C = choose_random_points(X, k)\n",
    "    \n",
    "    for i in range(maxiter):\n",
    "        y, C = kmeans_iteration(X, C)\n",
    "\n",
    "    return y, C"
   ]
  },
  {
   "cell_type": "code",
   "execution_count": 63,
   "metadata": {},
   "outputs": [
    {
     "name": "stdout",
     "output_type": "stream",
     "text": [
      "\u001b[32m.\u001b[0m\u001b[32m                                                                                            [100%]\u001b[0m\n",
      "\u001b[32m\u001b[32m\u001b[1m1 passed\u001b[0m\u001b[32m in 0.36s\u001b[0m\u001b[0m\n"
     ]
    }
   ],
   "source": [
    "%%ipytest\n",
    "\n",
    "\n",
    "def test_kmeans_1():  # 3p\n",
    "    \"\"\"Test K-means on simple dataset with two compact, well-separated clusters\"\"\"\n",
    "    C_true = np.array(\n",
    "        [[0, 2], [2, 0]]\n",
    "    )  # \"True\" centroids (generate random points close to these)\n",
    "    score = []  # List for homogenity score\n",
    "\n",
    "    for i in range(10):  # Run 10 tests to account for random nature of algorithm\n",
    "        X, y_true = sklearn.datasets.make_blobs(centers=C_true, cluster_std=0.2)\n",
    "        y_cluster, C_cluster = kmeans(X, k=2)\n",
    "        C_cluster_sorted = C_cluster[\n",
    "            C_cluster[:, 0].argsort()\n",
    "        ]  # Sort cluster centroids for one-to-one comparison\n",
    "        C_mean_dist = np.sqrt(\n",
    "            np.mean((C_true - C_cluster_sorted) ** 2)\n",
    "        )  # Mean distance between \"true\" and estimated centroids\n",
    "        assert C_mean_dist < 0.1\n",
    "        score.append(sklearn.metrics.homogeneity_score(y_true, y_cluster))\n",
    "\n",
    "    assert (\n",
    "        np.mean(np.array(score)) > 0.90\n",
    "    )  # Score should be 1, but allow for some random variation\n"
   ]
  },
  {
   "cell_type": "markdown",
   "metadata": {},
   "source": [
    "## Oppgave 8: Clustering på pingvin-datasett\n",
    "- Les inn de 4 numeriske verdiene fra datasettet i `palmer_penguins.csv`. \n",
    "- Legg verdiene i en datamatrise og normaliser matrisa med z-score.\n",
    "- Anta k=3 og kjør K-means på datasettet. Bruk alle 4 features.\n",
    "- Konverter pingvinartene (\"Adelie\", \"Gentoo\", \"Chinstrap\") i datasettet til en vektor med heltallene\n",
    "  0, 1, og 2. \n",
    "- Plott datasettet ved å plotte `culmen_length_mm` mot `flipper_length_mm` (som \"scatterplott\"). Lag to\n",
    "  versjoner av samme plott:\n",
    "    - En versjon der du bruker heltallene som viser de \"sanne\" klassene til pingvinene.\n",
    "      Bruk argumentet `c` i `scatter()`-funksjonen for å gi ulike farger til klassene.\n",
    "    - En versjon som viser resultatet av K-means-algoritmen. Bruk y-vektoren fra\n",
    "      algoritmen til å fargelegge klyngene.\n",
    "- Kommentér kort på resultatet (forskjeller / likheter mellom plottene, evt. andre\n",
    "  observasjoner)\n",
    "\n",
    "OBS: Du skal bruke din egen versjon av K-means, ikke en versjon fra et bibliotek. :)"
   ]
  },
  {
   "cell_type": "code",
   "execution_count": 78,
   "metadata": {},
   "outputs": [
    {
     "name": "stdout",
     "output_type": "stream",
     "text": [
      "[['Adelie', 'Torgersen', '39.1', '18.7', '181', '3750', 'MALE'], ['Adelie', 'Torgersen', '39.5', '17.4', '186', '3800', 'FEMALE'], ['Adelie', 'Torgersen', '40.3', '18', '195', '3250', 'FEMALE'], ['Adelie', 'Torgersen', 'NA', 'NA', 'NA', 'NA', 'NA'], ['Adelie', 'Torgersen', '36.7', '19.3', '193', '3450', 'FEMALE'], ['Adelie', 'Torgersen', '39.3', '20.6', '190', '3650', 'MALE'], ['Adelie', 'Torgersen', '38.9', '17.8', '181', '3625', 'FEMALE'], ['Adelie', 'Torgersen', '39.2', '19.6', '195', '4675', 'MALE'], ['Adelie', 'Torgersen', '34.1', '18.1', '193', '3475', 'NA'], ['Adelie', 'Torgersen', '42', '20.2', '190', '4250', 'NA'], ['Adelie', 'Torgersen', '37.8', '17.1', '186', '3300', 'NA'], ['Adelie', 'Torgersen', '37.8', '17.3', '180', '3700', 'NA'], ['Adelie', 'Torgersen', '41.1', '17.6', '182', '3200', 'FEMALE'], ['Adelie', 'Torgersen', '38.6', '21.2', '191', '3800', 'MALE'], ['Adelie', 'Torgersen', '34.6', '21.1', '198', '4400', 'MALE'], ['Adelie', 'Torgersen', '36.6', '17.8', '185', '3700', 'FEMALE'], ['Adelie', 'Torgersen', '38.7', '19', '195', '3450', 'FEMALE'], ['Adelie', 'Torgersen', '42.5', '20.7', '197', '4500', 'MALE'], ['Adelie', 'Torgersen', '34.4', '18.4', '184', '3325', 'FEMALE'], ['Adelie', 'Torgersen', '46', '21.5', '194', '4200', 'MALE'], ['Adelie', 'Biscoe', '37.8', '18.3', '174', '3400', 'FEMALE'], ['Adelie', 'Biscoe', '37.7', '18.7', '180', '3600', 'MALE'], ['Adelie', 'Biscoe', '35.9', '19.2', '189', '3800', 'FEMALE'], ['Adelie', 'Biscoe', '38.2', '18.1', '185', '3950', 'MALE'], ['Adelie', 'Biscoe', '38.8', '17.2', '180', '3800', 'MALE'], ['Adelie', 'Biscoe', '35.3', '18.9', '187', '3800', 'FEMALE'], ['Adelie', 'Biscoe', '40.6', '18.6', '183', '3550', 'MALE'], ['Adelie', 'Biscoe', '40.5', '17.9', '187', '3200', 'FEMALE'], ['Adelie', 'Biscoe', '37.9', '18.6', '172', '3150', 'FEMALE'], ['Adelie', 'Biscoe', '40.5', '18.9', '180', '3950', 'MALE'], ['Adelie', 'Dream', '39.5', '16.7', '178', '3250', 'FEMALE'], ['Adelie', 'Dream', '37.2', '18.1', '178', '3900', 'MALE'], ['Adelie', 'Dream', '39.5', '17.8', '188', '3300', 'FEMALE'], ['Adelie', 'Dream', '40.9', '18.9', '184', '3900', 'MALE'], ['Adelie', 'Dream', '36.4', '17', '195', '3325', 'FEMALE'], ['Adelie', 'Dream', '39.2', '21.1', '196', '4150', 'MALE'], ['Adelie', 'Dream', '38.8', '20', '190', '3950', 'MALE'], ['Adelie', 'Dream', '42.2', '18.5', '180', '3550', 'FEMALE'], ['Adelie', 'Dream', '37.6', '19.3', '181', '3300', 'FEMALE'], ['Adelie', 'Dream', '39.8', '19.1', '184', '4650', 'MALE'], ['Adelie', 'Dream', '36.5', '18', '182', '3150', 'FEMALE'], ['Adelie', 'Dream', '40.8', '18.4', '195', '3900', 'MALE'], ['Adelie', 'Dream', '36', '18.5', '186', '3100', 'FEMALE'], ['Adelie', 'Dream', '44.1', '19.7', '196', '4400', 'MALE'], ['Adelie', 'Dream', '37', '16.9', '185', '3000', 'FEMALE'], ['Adelie', 'Dream', '39.6', '18.8', '190', '4600', 'MALE'], ['Adelie', 'Dream', '41.1', '19', '182', '3425', 'MALE'], ['Adelie', 'Dream', '37.5', '18.9', '179', '2975', 'NA'], ['Adelie', 'Dream', '36', '17.9', '190', '3450', 'FEMALE'], ['Adelie', 'Dream', '42.3', '21.2', '191', '4150', 'MALE'], ['Adelie', 'Biscoe', '39.6', '17.7', '186', '3500', 'FEMALE'], ['Adelie', 'Biscoe', '40.1', '18.9', '188', '4300', 'MALE'], ['Adelie', 'Biscoe', '35', '17.9', '190', '3450', 'FEMALE'], ['Adelie', 'Biscoe', '42', '19.5', '200', '4050', 'MALE'], ['Adelie', 'Biscoe', '34.5', '18.1', '187', '2900', 'FEMALE'], ['Adelie', 'Biscoe', '41.4', '18.6', '191', '3700', 'MALE'], ['Adelie', 'Biscoe', '39', '17.5', '186', '3550', 'FEMALE'], ['Adelie', 'Biscoe', '40.6', '18.8', '193', '3800', 'MALE'], ['Adelie', 'Biscoe', '36.5', '16.6', '181', '2850', 'FEMALE'], ['Adelie', 'Biscoe', '37.6', '19.1', '194', '3750', 'MALE'], ['Adelie', 'Biscoe', '35.7', '16.9', '185', '3150', 'FEMALE'], ['Adelie', 'Biscoe', '41.3', '21.1', '195', '4400', 'MALE'], ['Adelie', 'Biscoe', '37.6', '17', '185', '3600', 'FEMALE'], ['Adelie', 'Biscoe', '41.1', '18.2', '192', '4050', 'MALE'], ['Adelie', 'Biscoe', '36.4', '17.1', '184', '2850', 'FEMALE'], ['Adelie', 'Biscoe', '41.6', '18', '192', '3950', 'MALE'], ['Adelie', 'Biscoe', '35.5', '16.2', '195', '3350', 'FEMALE'], ['Adelie', 'Biscoe', '41.1', '19.1', '188', '4100', 'MALE'], ['Adelie', 'Torgersen', '35.9', '16.6', '190', '3050', 'FEMALE'], ['Adelie', 'Torgersen', '41.8', '19.4', '198', '4450', 'MALE'], ['Adelie', 'Torgersen', '33.5', '19', '190', '3600', 'FEMALE'], ['Adelie', 'Torgersen', '39.7', '18.4', '190', '3900', 'MALE'], ['Adelie', 'Torgersen', '39.6', '17.2', '196', '3550', 'FEMALE'], ['Adelie', 'Torgersen', '45.8', '18.9', '197', '4150', 'MALE'], ['Adelie', 'Torgersen', '35.5', '17.5', '190', '3700', 'FEMALE'], ['Adelie', 'Torgersen', '42.8', '18.5', '195', '4250', 'MALE'], ['Adelie', 'Torgersen', '40.9', '16.8', '191', '3700', 'FEMALE'], ['Adelie', 'Torgersen', '37.2', '19.4', '184', '3900', 'MALE'], ['Adelie', 'Torgersen', '36.2', '16.1', '187', '3550', 'FEMALE'], ['Adelie', 'Torgersen', '42.1', '19.1', '195', '4000', 'MALE'], ['Adelie', 'Torgersen', '34.6', '17.2', '189', '3200', 'FEMALE'], ['Adelie', 'Torgersen', '42.9', '17.6', '196', '4700', 'MALE'], ['Adelie', 'Torgersen', '36.7', '18.8', '187', '3800', 'FEMALE'], ['Adelie', 'Torgersen', '35.1', '19.4', '193', '4200', 'MALE'], ['Adelie', 'Dream', '37.3', '17.8', '191', '3350', 'FEMALE'], ['Adelie', 'Dream', '41.3', '20.3', '194', '3550', 'MALE'], ['Adelie', 'Dream', '36.3', '19.5', '190', '3800', 'MALE'], ['Adelie', 'Dream', '36.9', '18.6', '189', '3500', 'FEMALE'], ['Adelie', 'Dream', '38.3', '19.2', '189', '3950', 'MALE'], ['Adelie', 'Dream', '38.9', '18.8', '190', '3600', 'FEMALE'], ['Adelie', 'Dream', '35.7', '18', '202', '3550', 'FEMALE'], ['Adelie', 'Dream', '41.1', '18.1', '205', '4300', 'MALE'], ['Adelie', 'Dream', '34', '17.1', '185', '3400', 'FEMALE'], ['Adelie', 'Dream', '39.6', '18.1', '186', '4450', 'MALE'], ['Adelie', 'Dream', '36.2', '17.3', '187', '3300', 'FEMALE'], ['Adelie', 'Dream', '40.8', '18.9', '208', '4300', 'MALE'], ['Adelie', 'Dream', '38.1', '18.6', '190', '3700', 'FEMALE'], ['Adelie', 'Dream', '40.3', '18.5', '196', '4350', 'MALE'], ['Adelie', 'Dream', '33.1', '16.1', '178', '2900', 'FEMALE'], ['Adelie', 'Dream', '43.2', '18.5', '192', '4100', 'MALE'], ['Adelie', 'Biscoe', '35', '17.9', '192', '3725', 'FEMALE'], ['Adelie', 'Biscoe', '41', '20', '203', '4725', 'MALE'], ['Adelie', 'Biscoe', '37.7', '16', '183', '3075', 'FEMALE'], ['Adelie', 'Biscoe', '37.8', '20', '190', '4250', 'MALE'], ['Adelie', 'Biscoe', '37.9', '18.6', '193', '2925', 'FEMALE'], ['Adelie', 'Biscoe', '39.7', '18.9', '184', '3550', 'MALE'], ['Adelie', 'Biscoe', '38.6', '17.2', '199', '3750', 'FEMALE'], ['Adelie', 'Biscoe', '38.2', '20', '190', '3900', 'MALE'], ['Adelie', 'Biscoe', '38.1', '17', '181', '3175', 'FEMALE'], ['Adelie', 'Biscoe', '43.2', '19', '197', '4775', 'MALE'], ['Adelie', 'Biscoe', '38.1', '16.5', '198', '3825', 'FEMALE'], ['Adelie', 'Biscoe', '45.6', '20.3', '191', '4600', 'MALE'], ['Adelie', 'Biscoe', '39.7', '17.7', '193', '3200', 'FEMALE'], ['Adelie', 'Biscoe', '42.2', '19.5', '197', '4275', 'MALE'], ['Adelie', 'Biscoe', '39.6', '20.7', '191', '3900', 'FEMALE'], ['Adelie', 'Biscoe', '42.7', '18.3', '196', '4075', 'MALE'], ['Adelie', 'Torgersen', '38.6', '17', '188', '2900', 'FEMALE'], ['Adelie', 'Torgersen', '37.3', '20.5', '199', '3775', 'MALE'], ['Adelie', 'Torgersen', '35.7', '17', '189', '3350', 'FEMALE'], ['Adelie', 'Torgersen', '41.1', '18.6', '189', '3325', 'MALE'], ['Adelie', 'Torgersen', '36.2', '17.2', '187', '3150', 'FEMALE'], ['Adelie', 'Torgersen', '37.7', '19.8', '198', '3500', 'MALE'], ['Adelie', 'Torgersen', '40.2', '17', '176', '3450', 'FEMALE'], ['Adelie', 'Torgersen', '41.4', '18.5', '202', '3875', 'MALE'], ['Adelie', 'Torgersen', '35.2', '15.9', '186', '3050', 'FEMALE'], ['Adelie', 'Torgersen', '40.6', '19', '199', '4000', 'MALE'], ['Adelie', 'Torgersen', '38.8', '17.6', '191', '3275', 'FEMALE'], ['Adelie', 'Torgersen', '41.5', '18.3', '195', '4300', 'MALE'], ['Adelie', 'Torgersen', '39', '17.1', '191', '3050', 'FEMALE'], ['Adelie', 'Torgersen', '44.1', '18', '210', '4000', 'MALE'], ['Adelie', 'Torgersen', '38.5', '17.9', '190', '3325', 'FEMALE'], ['Adelie', 'Torgersen', '43.1', '19.2', '197', '3500', 'MALE'], ['Adelie', 'Dream', '36.8', '18.5', '193', '3500', 'FEMALE'], ['Adelie', 'Dream', '37.5', '18.5', '199', '4475', 'MALE'], ['Adelie', 'Dream', '38.1', '17.6', '187', '3425', 'FEMALE'], ['Adelie', 'Dream', '41.1', '17.5', '190', '3900', 'MALE'], ['Adelie', 'Dream', '35.6', '17.5', '191', '3175', 'FEMALE'], ['Adelie', 'Dream', '40.2', '20.1', '200', '3975', 'MALE'], ['Adelie', 'Dream', '37', '16.5', '185', '3400', 'FEMALE'], ['Adelie', 'Dream', '39.7', '17.9', '193', '4250', 'MALE'], ['Adelie', 'Dream', '40.2', '17.1', '193', '3400', 'FEMALE'], ['Adelie', 'Dream', '40.6', '17.2', '187', '3475', 'MALE'], ['Adelie', 'Dream', '32.1', '15.5', '188', '3050', 'FEMALE'], ['Adelie', 'Dream', '40.7', '17', '190', '3725', 'MALE'], ['Adelie', 'Dream', '37.3', '16.8', '192', '3000', 'FEMALE'], ['Adelie', 'Dream', '39', '18.7', '185', '3650', 'MALE'], ['Adelie', 'Dream', '39.2', '18.6', '190', '4250', 'MALE'], ['Adelie', 'Dream', '36.6', '18.4', '184', '3475', 'FEMALE'], ['Adelie', 'Dream', '36', '17.8', '195', '3450', 'FEMALE'], ['Adelie', 'Dream', '37.8', '18.1', '193', '3750', 'MALE'], ['Adelie', 'Dream', '36', '17.1', '187', '3700', 'FEMALE'], ['Adelie', 'Dream', '41.5', '18.5', '201', '4000', 'MALE'], ['Chinstrap', 'Dream', '46.5', '17.9', '192', '3500', 'FEMALE'], ['Chinstrap', 'Dream', '50', '19.5', '196', '3900', 'MALE'], ['Chinstrap', 'Dream', '51.3', '19.2', '193', '3650', 'MALE'], ['Chinstrap', 'Dream', '45.4', '18.7', '188', '3525', 'FEMALE'], ['Chinstrap', 'Dream', '52.7', '19.8', '197', '3725', 'MALE'], ['Chinstrap', 'Dream', '45.2', '17.8', '198', '3950', 'FEMALE'], ['Chinstrap', 'Dream', '46.1', '18.2', '178', '3250', 'FEMALE'], ['Chinstrap', 'Dream', '51.3', '18.2', '197', '3750', 'MALE'], ['Chinstrap', 'Dream', '46', '18.9', '195', '4150', 'FEMALE'], ['Chinstrap', 'Dream', '51.3', '19.9', '198', '3700', 'MALE'], ['Chinstrap', 'Dream', '46.6', '17.8', '193', '3800', 'FEMALE'], ['Chinstrap', 'Dream', '51.7', '20.3', '194', '3775', 'MALE'], ['Chinstrap', 'Dream', '47', '17.3', '185', '3700', 'FEMALE'], ['Chinstrap', 'Dream', '52', '18.1', '201', '4050', 'MALE'], ['Chinstrap', 'Dream', '45.9', '17.1', '190', '3575', 'FEMALE'], ['Chinstrap', 'Dream', '50.5', '19.6', '201', '4050', 'MALE'], ['Chinstrap', 'Dream', '50.3', '20', '197', '3300', 'MALE'], ['Chinstrap', 'Dream', '58', '17.8', '181', '3700', 'FEMALE'], ['Chinstrap', 'Dream', '46.4', '18.6', '190', '3450', 'FEMALE'], ['Chinstrap', 'Dream', '49.2', '18.2', '195', '4400', 'MALE'], ['Chinstrap', 'Dream', '42.4', '17.3', '181', '3600', 'FEMALE'], ['Chinstrap', 'Dream', '48.5', '17.5', '191', '3400', 'MALE'], ['Chinstrap', 'Dream', '43.2', '16.6', '187', '2900', 'FEMALE'], ['Chinstrap', 'Dream', '50.6', '19.4', '193', '3800', 'MALE'], ['Chinstrap', 'Dream', '46.7', '17.9', '195', '3300', 'FEMALE'], ['Chinstrap', 'Dream', '52', '19', '197', '4150', 'MALE'], ['Chinstrap', 'Dream', '50.5', '18.4', '200', '3400', 'FEMALE'], ['Chinstrap', 'Dream', '49.5', '19', '200', '3800', 'MALE'], ['Chinstrap', 'Dream', '46.4', '17.8', '191', '3700', 'FEMALE'], ['Chinstrap', 'Dream', '52.8', '20', '205', '4550', 'MALE'], ['Chinstrap', 'Dream', '40.9', '16.6', '187', '3200', 'FEMALE'], ['Chinstrap', 'Dream', '54.2', '20.8', '201', '4300', 'MALE'], ['Chinstrap', 'Dream', '42.5', '16.7', '187', '3350', 'FEMALE'], ['Chinstrap', 'Dream', '51', '18.8', '203', '4100', 'MALE'], ['Chinstrap', 'Dream', '49.7', '18.6', '195', '3600', 'MALE'], ['Chinstrap', 'Dream', '47.5', '16.8', '199', '3900', 'FEMALE'], ['Chinstrap', 'Dream', '47.6', '18.3', '195', '3850', 'FEMALE'], ['Chinstrap', 'Dream', '52', '20.7', '210', '4800', 'MALE'], ['Chinstrap', 'Dream', '46.9', '16.6', '192', '2700', 'FEMALE'], ['Chinstrap', 'Dream', '53.5', '19.9', '205', '4500', 'MALE'], ['Chinstrap', 'Dream', '49', '19.5', '210', '3950', 'MALE'], ['Chinstrap', 'Dream', '46.2', '17.5', '187', '3650', 'FEMALE'], ['Chinstrap', 'Dream', '50.9', '19.1', '196', '3550', 'MALE'], ['Chinstrap', 'Dream', '45.5', '17', '196', '3500', 'FEMALE'], ['Chinstrap', 'Dream', '50.9', '17.9', '196', '3675', 'FEMALE'], ['Chinstrap', 'Dream', '50.8', '18.5', '201', '4450', 'MALE'], ['Chinstrap', 'Dream', '50.1', '17.9', '190', '3400', 'FEMALE'], ['Chinstrap', 'Dream', '49', '19.6', '212', '4300', 'MALE'], ['Chinstrap', 'Dream', '51.5', '18.7', '187', '3250', 'MALE'], ['Chinstrap', 'Dream', '49.8', '17.3', '198', '3675', 'FEMALE'], ['Chinstrap', 'Dream', '48.1', '16.4', '199', '3325', 'FEMALE'], ['Chinstrap', 'Dream', '51.4', '19', '201', '3950', 'MALE'], ['Chinstrap', 'Dream', '45.7', '17.3', '193', '3600', 'FEMALE'], ['Chinstrap', 'Dream', '50.7', '19.7', '203', '4050', 'MALE'], ['Chinstrap', 'Dream', '42.5', '17.3', '187', '3350', 'FEMALE'], ['Chinstrap', 'Dream', '52.2', '18.8', '197', '3450', 'MALE'], ['Chinstrap', 'Dream', '45.2', '16.6', '191', '3250', 'FEMALE'], ['Chinstrap', 'Dream', '49.3', '19.9', '203', '4050', 'MALE'], ['Chinstrap', 'Dream', '50.2', '18.8', '202', '3800', 'MALE'], ['Chinstrap', 'Dream', '45.6', '19.4', '194', '3525', 'FEMALE'], ['Chinstrap', 'Dream', '51.9', '19.5', '206', '3950', 'MALE'], ['Chinstrap', 'Dream', '46.8', '16.5', '189', '3650', 'FEMALE'], ['Chinstrap', 'Dream', '45.7', '17', '195', '3650', 'FEMALE'], ['Chinstrap', 'Dream', '55.8', '19.8', '207', '4000', 'MALE'], ['Chinstrap', 'Dream', '43.5', '18.1', '202', '3400', 'FEMALE'], ['Chinstrap', 'Dream', '49.6', '18.2', '193', '3775', 'MALE'], ['Chinstrap', 'Dream', '50.8', '19', '210', '4100', 'MALE'], ['Chinstrap', 'Dream', '50.2', '18.7', '198', '3775', 'FEMALE'], ['Gentoo', 'Biscoe', '46.1', '13.2', '211', '4500', 'FEMALE'], ['Gentoo', 'Biscoe', '50', '16.3', '230', '5700', 'MALE'], ['Gentoo', 'Biscoe', '48.7', '14.1', '210', '4450', 'FEMALE'], ['Gentoo', 'Biscoe', '50', '15.2', '218', '5700', 'MALE'], ['Gentoo', 'Biscoe', '47.6', '14.5', '215', '5400', 'MALE'], ['Gentoo', 'Biscoe', '46.5', '13.5', '210', '4550', 'FEMALE'], ['Gentoo', 'Biscoe', '45.4', '14.6', '211', '4800', 'FEMALE'], ['Gentoo', 'Biscoe', '46.7', '15.3', '219', '5200', 'MALE'], ['Gentoo', 'Biscoe', '43.3', '13.4', '209', '4400', 'FEMALE'], ['Gentoo', 'Biscoe', '46.8', '15.4', '215', '5150', 'MALE'], ['Gentoo', 'Biscoe', '40.9', '13.7', '214', '4650', 'FEMALE'], ['Gentoo', 'Biscoe', '49', '16.1', '216', '5550', 'MALE'], ['Gentoo', 'Biscoe', '45.5', '13.7', '214', '4650', 'FEMALE'], ['Gentoo', 'Biscoe', '48.4', '14.6', '213', '5850', 'MALE'], ['Gentoo', 'Biscoe', '45.8', '14.6', '210', '4200', 'FEMALE'], ['Gentoo', 'Biscoe', '49.3', '15.7', '217', '5850', 'MALE'], ['Gentoo', 'Biscoe', '42', '13.5', '210', '4150', 'FEMALE'], ['Gentoo', 'Biscoe', '49.2', '15.2', '221', '6300', 'MALE'], ['Gentoo', 'Biscoe', '46.2', '14.5', '209', '4800', 'FEMALE'], ['Gentoo', 'Biscoe', '48.7', '15.1', '222', '5350', 'MALE'], ['Gentoo', 'Biscoe', '50.2', '14.3', '218', '5700', 'MALE'], ['Gentoo', 'Biscoe', '45.1', '14.5', '215', '5000', 'FEMALE'], ['Gentoo', 'Biscoe', '46.5', '14.5', '213', '4400', 'FEMALE'], ['Gentoo', 'Biscoe', '46.3', '15.8', '215', '5050', 'MALE'], ['Gentoo', 'Biscoe', '42.9', '13.1', '215', '5000', 'FEMALE'], ['Gentoo', 'Biscoe', '46.1', '15.1', '215', '5100', 'MALE'], ['Gentoo', 'Biscoe', '44.5', '14.3', '216', '4100', 'NA'], ['Gentoo', 'Biscoe', '47.8', '15', '215', '5650', 'MALE'], ['Gentoo', 'Biscoe', '48.2', '14.3', '210', '4600', 'FEMALE'], ['Gentoo', 'Biscoe', '50', '15.3', '220', '5550', 'MALE'], ['Gentoo', 'Biscoe', '47.3', '15.3', '222', '5250', 'MALE'], ['Gentoo', 'Biscoe', '42.8', '14.2', '209', '4700', 'FEMALE'], ['Gentoo', 'Biscoe', '45.1', '14.5', '207', '5050', 'FEMALE'], ['Gentoo', 'Biscoe', '59.6', '17', '230', '6050', 'MALE'], ['Gentoo', 'Biscoe', '49.1', '14.8', '220', '5150', 'FEMALE'], ['Gentoo', 'Biscoe', '48.4', '16.3', '220', '5400', 'MALE'], ['Gentoo', 'Biscoe', '42.6', '13.7', '213', '4950', 'FEMALE'], ['Gentoo', 'Biscoe', '44.4', '17.3', '219', '5250', 'MALE'], ['Gentoo', 'Biscoe', '44', '13.6', '208', '4350', 'FEMALE'], ['Gentoo', 'Biscoe', '48.7', '15.7', '208', '5350', 'MALE'], ['Gentoo', 'Biscoe', '42.7', '13.7', '208', '3950', 'FEMALE'], ['Gentoo', 'Biscoe', '49.6', '16', '225', '5700', 'MALE'], ['Gentoo', 'Biscoe', '45.3', '13.7', '210', '4300', 'FEMALE'], ['Gentoo', 'Biscoe', '49.6', '15', '216', '4750', 'MALE'], ['Gentoo', 'Biscoe', '50.5', '15.9', '222', '5550', 'MALE'], ['Gentoo', 'Biscoe', '43.6', '13.9', '217', '4900', 'FEMALE'], ['Gentoo', 'Biscoe', '45.5', '13.9', '210', '4200', 'FEMALE'], ['Gentoo', 'Biscoe', '50.5', '15.9', '225', '5400', 'MALE'], ['Gentoo', 'Biscoe', '44.9', '13.3', '213', '5100', 'FEMALE'], ['Gentoo', 'Biscoe', '45.2', '15.8', '215', '5300', 'MALE'], ['Gentoo', 'Biscoe', '46.6', '14.2', '210', '4850', 'FEMALE'], ['Gentoo', 'Biscoe', '48.5', '14.1', '220', '5300', 'MALE'], ['Gentoo', 'Biscoe', '45.1', '14.4', '210', '4400', 'FEMALE'], ['Gentoo', 'Biscoe', '50.1', '15', '225', '5000', 'MALE'], ['Gentoo', 'Biscoe', '46.5', '14.4', '217', '4900', 'FEMALE'], ['Gentoo', 'Biscoe', '45', '15.4', '220', '5050', 'MALE'], ['Gentoo', 'Biscoe', '43.8', '13.9', '208', '4300', 'FEMALE'], ['Gentoo', 'Biscoe', '45.5', '15', '220', '5000', 'MALE'], ['Gentoo', 'Biscoe', '43.2', '14.5', '208', '4450', 'FEMALE'], ['Gentoo', 'Biscoe', '50.4', '15.3', '224', '5550', 'MALE'], ['Gentoo', 'Biscoe', '45.3', '13.8', '208', '4200', 'FEMALE'], ['Gentoo', 'Biscoe', '46.2', '14.9', '221', '5300', 'MALE'], ['Gentoo', 'Biscoe', '45.7', '13.9', '214', '4400', 'FEMALE'], ['Gentoo', 'Biscoe', '54.3', '15.7', '231', '5650', 'MALE'], ['Gentoo', 'Biscoe', '45.8', '14.2', '219', '4700', 'FEMALE'], ['Gentoo', 'Biscoe', '49.8', '16.8', '230', '5700', 'MALE'], ['Gentoo', 'Biscoe', '46.2', '14.4', '214', '4650', 'NA'], ['Gentoo', 'Biscoe', '49.5', '16.2', '229', '5800', 'MALE'], ['Gentoo', 'Biscoe', '43.5', '14.2', '220', '4700', 'FEMALE'], ['Gentoo', 'Biscoe', '50.7', '15', '223', '5550', 'MALE'], ['Gentoo', 'Biscoe', '47.7', '15', '216', '4750', 'FEMALE'], ['Gentoo', 'Biscoe', '46.4', '15.6', '221', '5000', 'MALE'], ['Gentoo', 'Biscoe', '48.2', '15.6', '221', '5100', 'MALE'], ['Gentoo', 'Biscoe', '46.5', '14.8', '217', '5200', 'FEMALE'], ['Gentoo', 'Biscoe', '46.4', '15', '216', '4700', 'FEMALE'], ['Gentoo', 'Biscoe', '48.6', '16', '230', '5800', 'MALE'], ['Gentoo', 'Biscoe', '47.5', '14.2', '209', '4600', 'FEMALE'], ['Gentoo', 'Biscoe', '51.1', '16.3', '220', '6000', 'MALE'], ['Gentoo', 'Biscoe', '45.2', '13.8', '215', '4750', 'FEMALE'], ['Gentoo', 'Biscoe', '45.2', '16.4', '223', '5950', 'MALE'], ['Gentoo', 'Biscoe', '49.1', '14.5', '212', '4625', 'FEMALE'], ['Gentoo', 'Biscoe', '52.5', '15.6', '221', '5450', 'MALE'], ['Gentoo', 'Biscoe', '47.4', '14.6', '212', '4725', 'FEMALE'], ['Gentoo', 'Biscoe', '50', '15.9', '224', '5350', 'MALE'], ['Gentoo', 'Biscoe', '44.9', '13.8', '212', '4750', 'FEMALE'], ['Gentoo', 'Biscoe', '50.8', '17.3', '228', '5600', 'MALE'], ['Gentoo', 'Biscoe', '43.4', '14.4', '218', '4600', 'FEMALE'], ['Gentoo', 'Biscoe', '51.3', '14.2', '218', '5300', 'MALE'], ['Gentoo', 'Biscoe', '47.5', '14', '212', '4875', 'FEMALE'], ['Gentoo', 'Biscoe', '52.1', '17', '230', '5550', 'MALE'], ['Gentoo', 'Biscoe', '47.5', '15', '218', '4950', 'FEMALE'], ['Gentoo', 'Biscoe', '52.2', '17.1', '228', '5400', 'MALE'], ['Gentoo', 'Biscoe', '45.5', '14.5', '212', '4750', 'FEMALE'], ['Gentoo', 'Biscoe', '49.5', '16.1', '224', '5650', 'MALE'], ['Gentoo', 'Biscoe', '44.5', '14.7', '214', '4850', 'FEMALE'], ['Gentoo', 'Biscoe', '50.8', '15.7', '226', '5200', 'MALE'], ['Gentoo', 'Biscoe', '49.4', '15.8', '216', '4925', 'MALE'], ['Gentoo', 'Biscoe', '46.9', '14.6', '222', '4875', 'FEMALE'], ['Gentoo', 'Biscoe', '48.4', '14.4', '203', '4625', 'FEMALE'], ['Gentoo', 'Biscoe', '51.1', '16.5', '225', '5250', 'MALE'], ['Gentoo', 'Biscoe', '48.5', '15', '219', '4850', 'FEMALE'], ['Gentoo', 'Biscoe', '55.9', '17', '228', '5600', 'MALE'], ['Gentoo', 'Biscoe', '47.2', '15.5', '215', '4975', 'FEMALE'], ['Gentoo', 'Biscoe', '49.1', '15', '228', '5500', 'MALE'], ['Gentoo', 'Biscoe', '47.3', '13.8', '216', '4725', 'NA'], ['Gentoo', 'Biscoe', '46.8', '16.1', '215', '5500', 'MALE'], ['Gentoo', 'Biscoe', '41.7', '14.7', '210', '4700', 'FEMALE'], ['Gentoo', 'Biscoe', '53.4', '15.8', '219', '5500', 'MALE'], ['Gentoo', 'Biscoe', '43.3', '14', '208', '4575', 'FEMALE'], ['Gentoo', 'Biscoe', '48.1', '15.1', '209', '5500', 'MALE'], ['Gentoo', 'Biscoe', '50.5', '15.2', '216', '5000', 'FEMALE'], ['Gentoo', 'Biscoe', '49.8', '15.9', '229', '5950', 'MALE'], ['Gentoo', 'Biscoe', '43.5', '15.2', '213', '4650', 'FEMALE'], ['Gentoo', 'Biscoe', '51.5', '16.3', '230', '5500', 'MALE'], ['Gentoo', 'Biscoe', '46.2', '14.1', '217', '4375', 'FEMALE'], ['Gentoo', 'Biscoe', '55.1', '16', '230', '5850', 'MALE'], ['Gentoo', 'Biscoe', '44.5', '15.7', '217', '4875', '.'], ['Gentoo', 'Biscoe', '48.8', '16.2', '222', '6000', 'MALE'], ['Gentoo', 'Biscoe', '47.2', '13.7', '214', '4925', 'FEMALE'], ['Gentoo', 'Biscoe', 'NA', 'NA', 'NA', 'NA', 'NA'], ['Gentoo', 'Biscoe', '46.8', '14.3', '215', '4850', 'FEMALE'], ['Gentoo', 'Biscoe', '50.4', '15.7', '222', '5750', 'MALE'], ['Gentoo', 'Biscoe', '45.2', '14.8', '212', '5200', 'FEMALE'], ['Gentoo', 'Biscoe', '49.9', '16.1', '213', '5400', 'MALE']]\n",
      "0\n",
      "1\n",
      "2\n",
      "3\n",
      "4\n",
      "5\n",
      "6\n",
      "HEADER: ['species', 'island', 'culmen_length_mm', 'culmen_depth_mm', 'flipper_length_mm', 'body_mass_g', 'sex']\n"
     ]
    }
   ],
   "source": [
    "# Your code here\n",
    "import csv\n",
    "from pathlib import Path\n",
    "\n",
    "def read_from_csv(csv_file_path: Path | str, delimiter: str):\n",
    "    with open(csv_file_path, newline='') as csv_file:\n",
    "        csv_reader = csv.reader(csv_file, delimiter=delimiter)\n",
    "        header = next(csv_reader)\n",
    "        content = []\n",
    "        for x in csv_reader:\n",
    "            content.append(x)\n",
    "    return header, content\n",
    "\n",
    "def normalize_data(header, content_raw):\n",
    "    #content = np.array(content_raw, dtype='f')\n",
    "    col_length = len(content_raw[0])\n",
    "    row_length = len(content_raw)\n",
    "    \n",
    "    for i in range(length):\n",
    "        print(i)\n",
    "        if type(content_raw[i]) is float:\n",
    "            print(content_raw[i])\n",
    "\n",
    "header, content = read_from_csv('palmer_penguins.csv', ',')\n",
    "print(content)\n",
    "content = normalize_data(content, header)\n",
    "#normalize_data(header, content)\n",
    "print(f'HEADER: {header}')\n",
    "#print(f'FIRST ROW: {content[0]}')\n",
    "      \n",
    "\n"
   ]
  },
  {
   "cell_type": "code",
   "execution_count": null,
   "metadata": {},
   "outputs": [],
   "source": []
  }
 ],
 "metadata": {
  "kernelspec": {
   "display_name": "Python 3 (ipykernel)",
   "language": "python",
   "name": "python3"
  },
  "language_info": {
   "codemirror_mode": {
    "name": "ipython",
    "version": 3
   },
   "file_extension": ".py",
   "mimetype": "text/x-python",
   "name": "python",
   "nbconvert_exporter": "python",
   "pygments_lexer": "ipython3",
   "version": "3.13.0"
  }
 },
 "nbformat": 4,
 "nbformat_minor": 4
}
